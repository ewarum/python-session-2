{
 "cells": [
  {
   "cell_type": "markdown",
   "metadata": {},
   "source": [
    "___\n",
    "\n",
    "![Bluemetrica](../bluemetrica_large.png)\n",
    "___"
   ]
  },
  {
   "cell_type": "markdown",
   "metadata": {},
   "source": [
    "# Time Series - szeregi czasowe w Pandas"
   ]
  },
  {
   "cell_type": "markdown",
   "metadata": {},
   "source": [
    "## Import bibliotek"
   ]
  },
  {
   "cell_type": "code",
   "execution_count": 1,
   "metadata": {},
   "outputs": [],
   "source": [
    "import numpy as np\n",
    "import pandas as pd\n",
    "%matplotlib inline"
   ]
  },
  {
   "cell_type": "markdown",
   "metadata": {},
   "source": [
    "## Wczytujemy dane\n",
    "\n",
    "Monthly retail sales data from Eurostat. Data start 1984M01 data end 2018M08"
   ]
  },
  {
   "cell_type": "code",
   "execution_count": 3,
   "metadata": {},
   "outputs": [],
   "source": [
    "plik = 'retail_sale.csv'"
   ]
  },
  {
   "cell_type": "code",
   "execution_count": 13,
   "metadata": {},
   "outputs": [],
   "source": [
    "# df = pd.read_csv(\"../data/\" + plik, index_col='time')\n",
    "df = pd.read_csv(\"../data/\" + plik)"
   ]
  },
  {
   "cell_type": "code",
   "execution_count": 14,
   "metadata": {},
   "outputs": [
    {
     "data": {
      "text/html": [
       "<div>\n",
       "<style scoped>\n",
       "    .dataframe tbody tr th:only-of-type {\n",
       "        vertical-align: middle;\n",
       "    }\n",
       "\n",
       "    .dataframe tbody tr th {\n",
       "        vertical-align: top;\n",
       "    }\n",
       "\n",
       "    .dataframe thead th {\n",
       "        text-align: right;\n",
       "    }\n",
       "</style>\n",
       "<table border=\"1\" class=\"dataframe\">\n",
       "  <thead>\n",
       "    <tr style=\"text-align: right;\">\n",
       "      <th></th>\n",
       "      <th>indic</th>\n",
       "      <th>s_adj</th>\n",
       "      <th>unit</th>\n",
       "      <th>geo</th>\n",
       "      <th>time</th>\n",
       "      <th>values</th>\n",
       "    </tr>\n",
       "  </thead>\n",
       "  <tbody>\n",
       "    <tr>\n",
       "      <th>0</th>\n",
       "      <td>BS-RAS</td>\n",
       "      <td>NSA</td>\n",
       "      <td>BAL</td>\n",
       "      <td>AT</td>\n",
       "      <td>2018-08-01</td>\n",
       "      <td>22.5</td>\n",
       "    </tr>\n",
       "    <tr>\n",
       "      <th>1</th>\n",
       "      <td>BS-RAS</td>\n",
       "      <td>NSA</td>\n",
       "      <td>BAL</td>\n",
       "      <td>BE</td>\n",
       "      <td>2018-08-01</td>\n",
       "      <td>15.0</td>\n",
       "    </tr>\n",
       "    <tr>\n",
       "      <th>2</th>\n",
       "      <td>BS-RAS</td>\n",
       "      <td>NSA</td>\n",
       "      <td>BAL</td>\n",
       "      <td>BG</td>\n",
       "      <td>2018-08-01</td>\n",
       "      <td>1.7</td>\n",
       "    </tr>\n",
       "    <tr>\n",
       "      <th>3</th>\n",
       "      <td>BS-RAS</td>\n",
       "      <td>NSA</td>\n",
       "      <td>BAL</td>\n",
       "      <td>CY</td>\n",
       "      <td>2018-08-01</td>\n",
       "      <td>2.0</td>\n",
       "    </tr>\n",
       "    <tr>\n",
       "      <th>4</th>\n",
       "      <td>BS-RAS</td>\n",
       "      <td>NSA</td>\n",
       "      <td>BAL</td>\n",
       "      <td>CZ</td>\n",
       "      <td>2018-08-01</td>\n",
       "      <td>6.0</td>\n",
       "    </tr>\n",
       "  </tbody>\n",
       "</table>\n",
       "</div>"
      ],
      "text/plain": [
       "    indic s_adj unit geo        time  values\n",
       "0  BS-RAS   NSA  BAL  AT  2018-08-01    22.5\n",
       "1  BS-RAS   NSA  BAL  BE  2018-08-01    15.0\n",
       "2  BS-RAS   NSA  BAL  BG  2018-08-01     1.7\n",
       "3  BS-RAS   NSA  BAL  CY  2018-08-01     2.0\n",
       "4  BS-RAS   NSA  BAL  CZ  2018-08-01     6.0"
      ]
     },
     "execution_count": 14,
     "metadata": {},
     "output_type": "execute_result"
    }
   ],
   "source": [
    "df.head()"
   ]
  },
  {
   "cell_type": "markdown",
   "metadata": {},
   "source": [
    "## Datetime - data i czas"
   ]
  },
  {
   "cell_type": "markdown",
   "metadata": {},
   "source": [
    "### Grupowanie po czasie\n",
    "\n",
    "Dostępne grupowanie\n",
    "\n",
    "- year\n",
    "- quater\n",
    "- month\n",
    "- dayofweek\n",
    "- weekofyear\n",
    "- day\n"
   ]
  },
  {
   "cell_type": "code",
   "execution_count": null,
   "metadata": {},
   "outputs": [],
   "source": []
  }
 ],
 "metadata": {
  "kernelspec": {
   "display_name": "Python 3",
   "language": "python",
   "name": "python3"
  },
  "language_info": {
   "codemirror_mode": {
    "name": "ipython",
    "version": 3
   },
   "file_extension": ".py",
   "mimetype": "text/x-python",
   "name": "python",
   "nbconvert_exporter": "python",
   "pygments_lexer": "ipython3",
   "version": "3.7.4"
  }
 },
 "nbformat": 4,
 "nbformat_minor": 2
}
