{
 "cells": [
  {
   "cell_type": "markdown",
   "metadata": {},
   "source": [
    "![Bluemetrica](../bluemetrica_large.png)"
   ]
  },
  {
   "cell_type": "markdown",
   "metadata": {},
   "source": [
    "# Wczytywanie i zapisywanie danych\n",
    "\n",
    "Za pomocą Pandas możemy wczytywać i zapisywać wiele typów danych korzystając z metod `pd.read_ `\n"
   ]
  },
  {
   "cell_type": "code",
   "execution_count": 1,
   "metadata": {},
   "outputs": [],
   "source": [
    "import numpy as np\n",
    "import pandas as pd"
   ]
  },
  {
   "cell_type": "markdown",
   "metadata": {},
   "source": [
    "**Wczytywanie:**             \n",
    "`df = pd.read_XXX() `\n",
    "\n",
    "**ZapisywanieL**         \n",
    "`df.to_XXX()`"
   ]
  },
  {
   "cell_type": "markdown",
   "metadata": {},
   "source": [
    "W Pandas możemy wczytywać następujące formaty:\n",
    "\n",
    "- CSV\n",
    "- TXT\n",
    "- Excel\n",
    "- JSON\n",
    "- HTML\n",
    "- Tablice z SQL (Po połączeniu z bazą)\n",
    "- Feather (lekki format, wykorzystujący Apache Arrow)\n",
    "- Pickle (serializacja obiektów Pythona)\n",
    "- Dane z innych programów statystycznych (SAS, SPSS, Stata)"
   ]
  },
  {
   "cell_type": "markdown",
   "metadata": {},
   "source": [
    "## HTML"
   ]
  },
  {
   "cell_type": "markdown",
   "metadata": {},
   "source": [
    "Do pracy z plikami HTML potrzebne będą odpowiednie bilioteki: htmllib5 (parser html),lxml (przetwarzanie html/xml) oraz BeautifulSoup4 (wyciąganie danych z html/xml). Jeżeli nie posiadasz tych biliotek wierszu poleceń (cmd) wykonaj:\n",
    "\n",
    "    conda install lxml\n",
    "    conda install html5lib\n",
    "    conda install BeautifulSoup4\n",
    "\n",
    "Po instalacji może być konieczne ponowne uruchomienie jupytera.\n",
    "(Jeśli nie korzystasz z Anacondy lub danej bibliotece nie ma w repozytorium Anacondy skorzystaj z komendy \"pip install biblioteka\")"
   ]
  },
  {
   "cell_type": "code",
   "execution_count": 2,
   "metadata": {},
   "outputs": [],
   "source": [
    "url= 'http://www.fdic.gov/bank/individual/failed/banklist.html'"
   ]
  },
  {
   "cell_type": "code",
   "execution_count": 3,
   "metadata": {},
   "outputs": [],
   "source": [
    "url2 = \"https://pl.wikipedia.org/wiki/Lista_pa%C5%84stw_%C5%9Bwiata_wed%C5%82ug_powierzchni\""
   ]
  },
  {
   "cell_type": "code",
   "execution_count": 4,
   "metadata": {},
   "outputs": [],
   "source": [
    "url3 = 'https://archive.ics.uci.edu/ml/machine-learning-databases/ozone/onehr.data'"
   ]
  },
  {
   "cell_type": "code",
   "execution_count": null,
   "metadata": {},
   "outputs": [],
   "source": []
  }
 ],
 "metadata": {
  "kernelspec": {
   "display_name": "Python 3",
   "language": "python",
   "name": "python3"
  },
  "language_info": {
   "codemirror_mode": {
    "name": "ipython",
    "version": 3
   },
   "file_extension": ".py",
   "mimetype": "text/x-python",
   "name": "python",
   "nbconvert_exporter": "python",
   "pygments_lexer": "ipython3",
   "version": "3.7.4"
  }
 },
 "nbformat": 4,
 "nbformat_minor": 2
}
