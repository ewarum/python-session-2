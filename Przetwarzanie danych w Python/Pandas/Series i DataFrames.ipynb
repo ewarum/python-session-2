{
 "cells": [
  {
   "cell_type": "markdown",
   "metadata": {},
   "source": [
    "![Bluemetrica](../bluemetrica_large.png)\n",
    "\n",
    "# Pandas"
   ]
  },
  {
   "cell_type": "code",
   "execution_count": 2,
   "metadata": {},
   "outputs": [],
   "source": [
    "import numpy as np    # algebra liniowa\n",
    "import pandas as pd   # przetwarzanie danych"
   ]
  },
  {
   "cell_type": "markdown",
   "metadata": {},
   "source": [
    "## Series\n",
    "\n",
    "Podstawowy obiekt danych w Pandas. Series to wektor danych jednego typu, do którego dołączony jest index (nazwa lub numer obserwacji). Wiele serii (Series) razem tworzą DataFrame.\n",
    "\n",
    "Series to obiekt podobny to np.array(), ale dodatkowo pozwalający nam na przechowywanie informacji o nazwie indeksu. Możemy sie do obiektu series odwoływac zarówno za pomocą indeksu liczbowego jak ma to miejsce w przypadku np.array() oraz nazw etykiet jak np. w słownikach (dictionary).\n",
    "\n",
    "**Tworzymy series**\n",
    "Series możemy stworzyć przekształcając array, listę, krotkę lub słownik"
   ]
  },
  {
   "cell_type": "code",
   "execution_count": 3,
   "metadata": {},
   "outputs": [],
   "source": [
    "x = np.random.randint(1, 100, size = 10)\n",
    "ser = pd.Series(x)"
   ]
  },
  {
   "cell_type": "code",
   "execution_count": 5,
   "metadata": {},
   "outputs": [
    {
     "data": {
      "text/plain": [
       "0    30\n",
       "1    23\n",
       "2    85\n",
       "3    17\n",
       "4    63\n",
       "5    11\n",
       "6    92\n",
       "7    65\n",
       "8    88\n",
       "9    95\n",
       "dtype: int32"
      ]
     },
     "execution_count": 5,
     "metadata": {},
     "output_type": "execute_result"
    }
   ],
   "source": [
    "ser"
   ]
  },
  {
   "cell_type": "code",
   "execution_count": 6,
   "metadata": {},
   "outputs": [
    {
     "data": {
      "text/plain": [
       "pandas.core.series.Series"
      ]
     },
     "execution_count": 6,
     "metadata": {},
     "output_type": "execute_result"
    }
   ],
   "source": [
    "type(ser)"
   ]
  },
  {
   "cell_type": "markdown",
   "metadata": {},
   "source": [
    "## DataFrames\n",
    "\n",
    "Kilka kolumn (Series) złożone w jedną wg. wspólnego indeksu tworzą DataFrame. Każda kolumna może zawierać dane innego typu, ale w ramach kolumny dane mogą mieć tylko jeden typ. \n",
    "\n",
    "Ramki danych to najbardziej popularna struktura do pracy z danymi."
   ]
  },
  {
   "cell_type": "markdown",
   "metadata": {},
   "source": [
    "### DataFrames\n",
    "\n",
    "Ramka danych to serii o wspólnym indeksie. "
   ]
  },
  {
   "cell_type": "code",
   "execution_count": 2,
   "metadata": {},
   "outputs": [],
   "source": [
    "df = pd.DataFrame({'imie':[\"Janusz\", \"Grażyna\", \"Bozydar\"], 'wiek':[50,45,18], 'zwierze':[\"kot\", \"kot\", \"pies\"]})"
   ]
  },
  {
   "cell_type": "code",
   "execution_count": 3,
   "metadata": {},
   "outputs": [
    {
     "data": {
      "text/html": [
       "<div>\n",
       "<style scoped>\n",
       "    .dataframe tbody tr th:only-of-type {\n",
       "        vertical-align: middle;\n",
       "    }\n",
       "\n",
       "    .dataframe tbody tr th {\n",
       "        vertical-align: top;\n",
       "    }\n",
       "\n",
       "    .dataframe thead th {\n",
       "        text-align: right;\n",
       "    }\n",
       "</style>\n",
       "<table border=\"1\" class=\"dataframe\">\n",
       "  <thead>\n",
       "    <tr style=\"text-align: right;\">\n",
       "      <th></th>\n",
       "      <th>imie</th>\n",
       "      <th>wiek</th>\n",
       "      <th>zwierze</th>\n",
       "    </tr>\n",
       "  </thead>\n",
       "  <tbody>\n",
       "    <tr>\n",
       "      <th>0</th>\n",
       "      <td>Janusz</td>\n",
       "      <td>50</td>\n",
       "      <td>kot</td>\n",
       "    </tr>\n",
       "    <tr>\n",
       "      <th>1</th>\n",
       "      <td>Grażyna</td>\n",
       "      <td>45</td>\n",
       "      <td>kot</td>\n",
       "    </tr>\n",
       "    <tr>\n",
       "      <th>2</th>\n",
       "      <td>Bozydar</td>\n",
       "      <td>18</td>\n",
       "      <td>pies</td>\n",
       "    </tr>\n",
       "  </tbody>\n",
       "</table>\n",
       "</div>"
      ],
      "text/plain": [
       "      imie  wiek zwierze\n",
       "0   Janusz    50     kot\n",
       "1  Grażyna    45     kot\n",
       "2  Bozydar    18    pies"
      ]
     },
     "execution_count": 3,
     "metadata": {},
     "output_type": "execute_result"
    }
   ],
   "source": [
    "df"
   ]
  },
  {
   "cell_type": "code",
   "execution_count": 4,
   "metadata": {},
   "outputs": [
    {
     "data": {
      "text/plain": [
       "pandas.core.frame.DataFrame"
      ]
     },
     "execution_count": 4,
     "metadata": {},
     "output_type": "execute_result"
    }
   ],
   "source": [
    "type(df)"
   ]
  },
  {
   "cell_type": "code",
   "execution_count": null,
   "metadata": {},
   "outputs": [],
   "source": []
  }
 ],
 "metadata": {
  "kernelspec": {
   "display_name": "Python 3",
   "language": "python",
   "name": "python3"
  },
  "language_info": {
   "codemirror_mode": {
    "name": "ipython",
    "version": 3
   },
   "file_extension": ".py",
   "mimetype": "text/x-python",
   "name": "python",
   "nbconvert_exporter": "python",
   "pygments_lexer": "ipython3",
   "version": "3.7.4"
  }
 },
 "nbformat": 4,
 "nbformat_minor": 2
}
